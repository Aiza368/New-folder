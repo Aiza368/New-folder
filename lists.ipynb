{
 "cells": [
  {
   "cell_type": "code",
   "execution_count": 25,
   "metadata": {},
   "outputs": [
    {
     "name": "stdout",
     "output_type": "stream",
     "text": [
      "Nimra\n",
      "Rafia\n",
      "Taiba\n"
     ]
    }
   ],
   "source": [
    "#NAMES\n",
    "names=[\"Nimra\",\"Rafia\",\"Taiba\"]\n",
    "print(names[0])\n",
    "print(names[1])\n",
    "print(names[2])\n",
    "\n",
    "\n",
    "\n",
    "\n"
   ]
  },
  {
   "cell_type": "code",
   "execution_count": 26,
   "metadata": {},
   "outputs": [
    {
     "name": "stdout",
     "output_type": "stream",
     "text": [
      "Hey! Nimra\n",
      " 'How are you?'\n",
      "Hey! Rafia\n",
      " 'How are you?'\n",
      "Hey! Taiba\n",
      " 'How are you?'\n",
      "Nimra,Rafia,Taiba it's been long time.\n"
     ]
    }
   ],
   "source": [
    "# Greetings\n",
    "print(f\"Hey! {names[0]}\\n 'How are you?'\")\n",
    "print(f\"Hey! {names[1]}\\n 'How are you?'\")\n",
    "print(f\"Hey! {names[2]}\\n 'How are you?'\")\n",
    "print(f\"{names[0]},{names[1]},{names[2]} it's been long time.\")"
   ]
  },
  {
   "cell_type": "code",
   "execution_count": 27,
   "metadata": {},
   "outputs": [
    {
     "name": "stdout",
     "output_type": "stream",
     "text": [
      "A Honda would be perfect for reliable daily commuting.\n",
      "Driving a BMW would be an exhilarating experience on winding roads.\n",
      "A Toyota would be ideal for long road trips with family.\n"
     ]
    }
   ],
   "source": [
    "#Your Own List\n",
    "transport=[\"Honda\",\"BMW\",\"Toyota\"]\n",
    "print(f\"A {transport[0]} would be perfect for reliable daily commuting.\")\n",
    "print(f\"Driving a {transport[1]} would be an exhilarating experience on winding roads.\")\n",
    "print(f\"A {transport[2]} would be ideal for long road trips with family.\")"
   ]
  },
  {
   "cell_type": "code",
   "execution_count": 28,
   "metadata": {},
   "outputs": [
    {
     "name": "stdout",
     "output_type": "stream",
     "text": [
      "Nimra,\n",
      "  I would love to have you at my dinner table as you are my bestie dear.\n",
      "Dear Rafia,\n",
      "  It would be wonderful if you could join me for dinner.\n",
      "Dear Taiba,\n",
      "  I would be really happy if you could join me for dinner.\n"
     ]
    }
   ],
   "source": [
    "#Guest List\n",
    "Guests=[\"Nimra\",\"Rafia\",\"Taiba\"]\n",
    "print(f\"{Guests[0]},\\n  I would love to have you at my dinner table as you are my bestie dear.\")\n",
    "print(f\"Dear {Guests[1]},\\n  It would be wonderful if you could join me for dinner.\")\n",
    "print(f\"Dear {Guests[2]},\\n  I would be really happy if you could join me for dinner.\")"
   ]
  },
  {
   "cell_type": "code",
   "execution_count": 29,
   "metadata": {},
   "outputs": [
    {
     "name": "stdout",
     "output_type": "stream",
     "text": [
      "Hey!Nimra,Taiba there is a bad news: \n",
      " Rafia is not coming bcz of illness\n",
      "['Nimra', 'Natasha', 'Taiba']\n",
      "Nimra,\n",
      "  I would love to have you at my dinner table as you are my bestie dear.\n",
      "Dear Natasha,\n",
      "  It would be wonderful if you could join me for dinner.\n",
      "Dear Taiba,\n",
      "  I would be really happy if you could join me for dinner.\n"
     ]
    }
   ],
   "source": [
    "#Changing Guest List\n",
    "# Add a print() call at the end of your program, stating the name of the guest who can’t make it.\n",
    "print(f\"Hey!{Guests[0]},{Guests[2]} there is a bad news: \\n {Guests[1]} is not coming bcz of illness\")\n",
    "Guests[1]=\"Natasha\"\n",
    "print(Guests)\n",
    "print(f\"{Guests[0]},\\n  I would love to have you at my dinner table as you are my bestie dear.\")\n",
    "print(f\"Dear {Guests[1]},\\n  It would be wonderful if you could join me for dinner.\")\n",
    "print(f\"Dear {Guests[2]},\\n  I would be really happy if you could join me for dinner.\")"
   ]
  },
  {
   "cell_type": "code",
   "execution_count": 30,
   "metadata": {},
   "outputs": [
    {
     "name": "stdout",
     "output_type": "stream",
     "text": [
      "['Nimra', 'Natasha', 'Taiba']\n",
      "Dear Nimra,Natasha & Taiba:\n",
      " I have a good news I found a bigger table now I can invite more friends so that we can enjoy more.\n",
      "['Maryam', 'Nimra', 'Zunaira', 'Natasha', 'Taiba', 'Rabia']\n",
      "Maryam,\n",
      "  I would love to have you at my dinner table as you are my bestie dear.\n",
      "Dear Nimra,\n",
      "  It would be wonderful if you could join me for dinner.\n",
      "Dear Zunaira,\n",
      "  I would be really happy if you could join me for dinner.\n",
      "Natasha,\n",
      "  I would love to have you at my dinner table as you are my bestie dear.\n",
      "Dear Taiba,\n",
      "  It would be wonderful if you could join me for dinner.\n",
      "Dear Rabia,\n",
      "  I would be really happy if you could join me for dinner.\n"
     ]
    }
   ],
   "source": [
    "# More Guests\n",
    "#Add a print() call to the end of your program, informing people that you found a bigger table\n",
    "Guests=[\"Nimra\",\"Rafia\",\"Taiba\"]\n",
    "Guests[1]=\"Natasha\"\n",
    "print(Guests)\n",
    "print(f\"Dear {Guests[0]},{Guests[1]} & {Guests[2]}:\\n I have a good news I found a bigger table now I can invite more friends so that we can enjoy more.\")\n",
    "Guests.insert(0,\"Maryam\")\n",
    "Guests.insert(2,\"Zunaira\")\n",
    "Guests.append(\"Rabia\")\n",
    "print(Guests)\n",
    "print(f\"{Guests[0]},\\n  I would love to have you at my dinner table as you are my bestie dear.\")\n",
    "print(f\"Dear {Guests[1]},\\n  It would be wonderful if you could join me for dinner.\")\n",
    "print(f\"Dear {Guests[2]},\\n  I would be really happy if you could join me for dinner.\")\n",
    "print(f\"{Guests[3]},\\n  I would love to have you at my dinner table as you are my bestie dear.\")\n",
    "print(f\"Dear {Guests[4]},\\n  It would be wonderful if you could join me for dinner.\")\n",
    "print(f\"Dear {Guests[5]},\\n  I would be really happy if you could join me for dinner.\")"
   ]
  },
  {
   "cell_type": "code",
   "execution_count": 31,
   "metadata": {},
   "outputs": [
    {
     "name": "stdout",
     "output_type": "stream",
     "text": [
      "['Nimra', 'Natasha', 'Taiba']\n",
      "['Maryam', 'Nimra', 'Zunaira', 'Natasha', 'Taiba', 'Rabia']\n",
      "Sorry to all!\n",
      " I can only invite two people bcz bigger table is booked\n",
      "Maryam\n",
      "sorry Maryam I can’t invite you to dinner.\n",
      "['Nimra', 'Zunaira', 'Natasha', 'Taiba', 'Rabia']\n",
      "Zunaira\n",
      "sorry Zunaira I can’t invite you to dinner.\n",
      "['Nimra', 'Natasha', 'Taiba', 'Rabia']\n",
      "Taiba\n",
      "sorry Taiba I can’t invite you to dinner.\n",
      "['Nimra', 'Natasha', 'Rabia']\n",
      "Natasha\n",
      "sorry Natasha I can’t invite you to dinner.\n",
      "['Nimra', 'Rabia']\n",
      "['Nimra', 'Rabia']you are invited\n",
      "[]\n"
     ]
    }
   ],
   "source": [
    "#Shrinking Guest List\n",
    "Guests=[\"Nimra\",\"Rafia\",\"Taiba\"]\n",
    "Guests[1]=\"Natasha\"\n",
    "print(Guests)\n",
    "Guests.insert(0,\"Maryam\")\n",
    "Guests.insert(2,\"Zunaira\")\n",
    "Guests.append(\"Rabia\")\n",
    "print(Guests)\n",
    "#Add a new line that prints a messagesaying that you can invite only two people for dinner.\n",
    "print(f\"Sorry to all!\\n I can only invite two people bcz bigger table is booked\")\n",
    "#Use pop() to remove guests from your list one at a time until only two names remain in your list.\n",
    "a=Guests.pop(0)\n",
    "print(a)\n",
    "print(f\"sorry {a} I can’t invite you to dinner.\")\n",
    "print(Guests)\n",
    "\n",
    "a=Guests.pop(1)\n",
    "print(a)\n",
    "print(f\"sorry {a} I can’t invite you to dinner.\")\n",
    "print(Guests)\n",
    "\n",
    "\n",
    "a=Guests.pop(2)\n",
    "print(a)\n",
    "print(f\"sorry {a} I can’t invite you to dinner.\")\n",
    "print(Guests)\n",
    "\n",
    "a=Guests.pop(1)\n",
    "print(a)\n",
    "print(f\"sorry {a} I can’t invite you to dinner.\")\n",
    "print(Guests)\n",
    "#Print a message to each of the two people still on your list,letting them know they’re still invited.\n",
    "print(f\"{Guests}you are invited\") \n",
    "#Use del to remove the last two names from your list, so you have an empty list.\n",
    "del Guests[0]\n",
    "del Guests[0]\n",
    "print(Guests)\n",
    "\n",
    "\n",
    "\n"
   ]
  },
  {
   "cell_type": "code",
   "execution_count": 32,
   "metadata": {},
   "outputs": [
    {
     "name": "stdout",
     "output_type": "stream",
     "text": [
      "['Paris', 'France', 'Tokyo', 'Japan', 'Rome']\n",
      "['France', 'Japan', 'Paris', 'Rome', 'Tokyo']\n",
      "['Paris', 'France', 'Tokyo', 'Japan', 'Rome']\n",
      "['Tokyo', 'Rome', 'Paris', 'Japan', 'France']\n",
      "['Paris', 'France', 'Tokyo', 'Japan', 'Rome']\n",
      "['Rome', 'Japan', 'Tokyo', 'France', 'Paris']\n",
      "['Paris', 'France', 'Tokyo', 'Japan', 'Rome']\n",
      "['France', 'Japan', 'Paris', 'Rome', 'Tokyo']\n",
      "['Tokyo', 'Rome', 'Paris', 'Japan', 'France']\n"
     ]
    }
   ],
   "source": [
    "#Seeing the World\n",
    "Places=[\"Paris\", \"France\",\"Tokyo\",\"Japan\",\"Rome\"]\n",
    "# Print your list in its original order\n",
    "print(Places)\n",
    "#Use sorted() to print your list in alphabetical order without modifying the actual list.\n",
    "original=sorted(Places)\n",
    "print(original)\n",
    "# Show that your list is still in its original order by printing it.\n",
    "print(Places)\n",
    "#Use sorted() to print your list in reverse-alphabetical order without changing the order of the original list\n",
    "print (sorted(Places,reverse=True))\n",
    "# Show that your list is still in its original order by printing it.\n",
    "print(Places)\n",
    "#Use reverse() to change the order of your list\n",
    "Places.reverse()\n",
    "# Print the list to show that its order has changed\n",
    "print(Places)\n",
    "# Use reverse() to change the order of your list again\n",
    "Places.reverse()\n",
    "#  Print the list to show it’s back to its original order\n",
    "print(Places)\n",
    "#Use sort() to change your list so it’s stored in alphabetical order.\n",
    "Places.sort()\n",
    "#Print the list to show that its order has been changed.\n",
    "print(Places)\n",
    "# Use sort() to change your list so it’s stored in reverse-alphabetical order\n",
    "Places.sort(reverse=True)\n",
    "#Print the list to show that its order has changed\n",
    "print(Places)\n",
    "\n",
    "\n"
   ]
  },
  {
   "cell_type": "code",
   "execution_count": 33,
   "metadata": {},
   "outputs": [
    {
     "name": "stdout",
     "output_type": "stream",
     "text": [
      "['Nile', 'Amazon', 'Yangtze', 'Mississippi']\n",
      "Nile\n",
      "Yangtze\n",
      "['Ganges', 'Amazon', 'Yangtze', 'Mississippi']\n",
      "['Ganges', 'Amazon', 'Yangtze', 'Mississippi', 'Danube']\n",
      "['Ganges', 'Amazon', 'Yangtze', 'Mississippi', 'Danube', 'Volga', 'Mekong']\n",
      "['Ganges', 'Amazon', 'Yangtze', 'Mississippi', 'Thames', 'Danube', 'Volga', 'Mekong']\n",
      "['Ganges', 'Amazon', 'Yangtze', 'Mississippi', 'Danube', 'Volga', 'Mekong']\n",
      "['Ganges', 'Amazon', 'Yangtze', 'Mississippi', 'Danube', 'Volga']\n",
      "['Ganges', 'Yangtze', 'Mississippi', 'Danube', 'Volga']\n",
      "['Danube', 'Ganges', 'Mississippi', 'Volga', 'Yangtze']\n",
      "['Yangtze', 'Volga', 'Mississippi', 'Ganges', 'Danube']\n",
      "['Danube', 'Ganges', 'Mississippi', 'Volga', 'Yangtze']\n",
      "5\n",
      "0\n",
      "['Danube', 'Ganges', 'Mississippi', 'Volga', 'Yangtze']\n",
      "[]\n"
     ]
    }
   ],
   "source": [
    "#Think of things you could store in a list.\n",
    "rivers=[\"Nile\",\"Amazon\",\"Yangtze\",\"Mississippi\"]\n",
    "print(rivers)\n",
    "# Indexing\n",
    "print(rivers[0])\n",
    "print(rivers[2])\n",
    "# Modifying list\n",
    "rivers[0]=\"Ganges\"\n",
    "print(rivers)\n",
    "# Append()\n",
    "rivers.append(\"Danube\")\n",
    "print(rivers)\n",
    "# extend()\n",
    "rivers.extend([\"Volga\",\"Mekong\"])\n",
    "print(rivers)\n",
    "# insert()\n",
    "rivers.insert(4,\"Thames\")\n",
    "print(rivers)\n",
    "# del function\n",
    "del rivers[4]\n",
    "print(rivers)\n",
    "# pop()\n",
    "popped_rivers=rivers.pop()\n",
    "print(rivers)\n",
    "# remove()\n",
    "rivers.remove(\"Amazon\")\n",
    "print(rivers)\n",
    "# sort()\n",
    "rivers.sort()\n",
    "print(rivers)\n",
    "# Descending order\n",
    "rivers.sort(reverse=True)\n",
    "print(rivers)\n",
    "# Reverse \n",
    "rivers.reverse()\n",
    "print(rivers)\n",
    "# len()function\n",
    "print(len(rivers))\n",
    "# count()\n",
    "print(rivers.count(\"K2\"))\n",
    "#same position \n",
    "newlist=rivers.copy()\n",
    "print(rivers)\n",
    "#clear()\n",
    "rivers.clear()\n",
    "print(rivers)\n"
   ]
  },
  {
   "cell_type": "code",
   "execution_count": 34,
   "metadata": {},
   "outputs": [
    {
     "ename": "IndexError",
     "evalue": "list index out of range",
     "output_type": "error",
     "traceback": [
      "\u001b[1;31m---------------------------------------------------------------------------\u001b[0m",
      "\u001b[1;31mIndexError\u001b[0m                                Traceback (most recent call last)",
      "Cell \u001b[1;32mIn[34], line 6\u001b[0m\n\u001b[0;32m      1\u001b[0m \u001b[38;5;66;03m# Exercise 3-10: Intentional Error\u001b[39;00m\n\u001b[0;32m      2\u001b[0m \u001b[38;5;66;03m# ● Task: If you haven’t received an index error in one of your programs yet, try to make one\u001b[39;00m\n\u001b[0;32m      3\u001b[0m \u001b[38;5;66;03m# happen. Change an index in one of your programs to produce an index error. Make sure\u001b[39;00m\n\u001b[0;32m      4\u001b[0m \u001b[38;5;66;03m# you correct the error before closing the program.\u001b[39;00m\n\u001b[0;32m      5\u001b[0m a\u001b[38;5;241m=\u001b[39m[\u001b[38;5;241m1\u001b[39m,\u001b[38;5;241m2\u001b[39m,\u001b[38;5;241m3\u001b[39m,\u001b[38;5;241m4\u001b[39m]\n\u001b[1;32m----> 6\u001b[0m \u001b[38;5;28mprint\u001b[39m(\u001b[43ma\u001b[49m\u001b[43m[\u001b[49m\u001b[38;5;241;43m5\u001b[39;49m\u001b[43m]\u001b[49m) \u001b[38;5;66;03m# index error: list index out of range\u001b[39;00m\n",
      "\u001b[1;31mIndexError\u001b[0m: list index out of range"
     ]
    }
   ],
   "source": [
    "# Exercise 3-10: Intentional Error\n",
    "# ● Task: If you haven’t received an index error in one of your programs yet, try to make one\n",
    "# happen. Change an index in one of your programs to produce an index error. Make sure\n",
    "# you correct the error before closing the program.\n",
    "a=[1,2,3,4]\n",
    "print(a[5]) # index error: list index out of range"
   ]
  },
  {
   "cell_type": "code",
   "execution_count": null,
   "metadata": {},
   "outputs": [
    {
     "name": "stdout",
     "output_type": "stream",
     "text": [
      "['umair', 'rafia', 'rabia', 'laiba', 'taiba']\n"
     ]
    }
   ],
   "source": [
    "s=[\"rafia\",\"rabia\",\"laiba\"]\n",
    "s.append(\"taiba\")\n",
    "s.insert(0,\"umair\")\n",
    "print(s)"
   ]
  },
  {
   "cell_type": "code",
   "execution_count": 35,
   "metadata": {},
   "outputs": [
    {
     "name": "stdout",
     "output_type": "stream",
     "text": [
      "['rabia', 'rafia', 'mehwish']\n",
      "How are you?\n",
      "['rabia', 'rafia', 'mehwish']\n",
      "How are you?\n",
      "['rabia', 'rafia', 'mehwish']\n",
      "How are you?\n",
      "\"hey!\"rabia\n",
      " \"How are you?\"\n",
      "\"hey!\"rafia\n",
      " \"How are you?\"\n",
      "\"hey!\"mehwish\n",
      " \"How are you?\"\n"
     ]
    }
   ],
   "source": [
    "s=[\"rabia\",\"rafia\",\"mehwish\"]\n",
    "for i in s:\n",
    "    print(s)\n",
    "    print(\"How are you?\")\n",
    "print(f'\"hey!\"{s[0]}\\n \"How are you?\"')\n",
    "print(f'\"hey!\"{s[1]}\\n \"How are you?\"')\n",
    "print(f'\"hey!\"{s[2]}\\n \"How are you?\"')\n"
   ]
  },
  {
   "cell_type": "code",
   "execution_count": null,
   "metadata": {},
   "outputs": [
    {
     "name": "stdout",
     "output_type": "stream",
     "text": [
      "['bilal', 'babar', 'catherine']\n"
     ]
    }
   ],
   "source": [
    "paper=[\"ali\",\"babar\",\"catherine\"]\n",
    "paper[0]=\"bilal\"\n",
    "print(paper)"
   ]
  }
 ],
 "metadata": {
  "kernelspec": {
   "display_name": "Python 3",
   "language": "python",
   "name": "python3"
  },
  "language_info": {
   "codemirror_mode": {
    "name": "ipython",
    "version": 3
   },
   "file_extension": ".py",
   "mimetype": "text/x-python",
   "name": "python",
   "nbconvert_exporter": "python",
   "pygments_lexer": "ipython3",
   "version": "3.12.4"
  }
 },
 "nbformat": 4,
 "nbformat_minor": 2
}
