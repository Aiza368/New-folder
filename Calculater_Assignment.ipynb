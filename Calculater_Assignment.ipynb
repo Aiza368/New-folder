{
  "nbformat": 4,
  "nbformat_minor": 0,
  "metadata": {
    "colab": {
      "provenance": [],
      "authorship_tag": "ABX9TyOMRaXtom27bl3gK2ENFpo2",
      "include_colab_link": true
    },
    "kernelspec": {
      "name": "python3",
      "display_name": "Python 3"
    },
    "language_info": {
      "name": "python"
    }
  },
  "cells": [
    {
      "cell_type": "markdown",
      "metadata": {
        "id": "view-in-github",
        "colab_type": "text"
      },
      "source": [
        "<a href=\"https://colab.research.google.com/github/Aiza368/New-folder/blob/main/Calculater_Assignment.ipynb\" target=\"_parent\"><img src=\"https://colab.research.google.com/assets/colab-badge.svg\" alt=\"Open In Colab\"/></a>"
      ]
    },
    {
      "cell_type": "code",
      "execution_count": null,
      "metadata": {
        "id": "_3afKRGxhkUU"
      },
      "outputs": [],
      "source": []
    },
    {
      "cell_type": "markdown",
      "source": [
        "***SUM***"
      ],
      "metadata": {
        "id": "3IYTEehPilUx"
      }
    },
    {
      "cell_type": "code",
      "source": [
        "def sum(a:int, b:int):\n",
        "  print(\"a:\" ,a)\n",
        "  print(\"b:\" ,b)\n",
        "  return a + b\n"
      ],
      "metadata": {
        "id": "JuujmKc2i6kV"
      },
      "execution_count": 5,
      "outputs": []
    },
    {
      "cell_type": "code",
      "source": [
        "a=int(input(\"enter the first number:\"))\n",
        "b=int(input(\"enter the second number:\"))"
      ],
      "metadata": {
        "colab": {
          "base_uri": "https://localhost:8080/"
        },
        "id": "ySr1dKFOj9NG",
        "outputId": "2ee4b52b-2ca8-4275-d0fe-91612b4efcd6"
      },
      "execution_count": 14,
      "outputs": [
        {
          "name": "stdout",
          "output_type": "stream",
          "text": [
            "enter the first number:3\n",
            "enter the second number:4\n"
          ]
        }
      ]
    },
    {
      "cell_type": "code",
      "source": [
        "result=sum(a,b)\n",
        "print(f\"sum of {a} and {b} = {result}\")"
      ],
      "metadata": {
        "colab": {
          "base_uri": "https://localhost:8080/"
        },
        "id": "AZGNwNryn8-2",
        "outputId": "70f8f951-77fb-4587-ac9b-44cc9bff7c4d"
      },
      "execution_count": 15,
      "outputs": [
        {
          "output_type": "stream",
          "name": "stdout",
          "text": [
            "a: 3\n",
            "b: 4\n",
            "sum of 3 and 4 = 7\n"
          ]
        }
      ]
    },
    {
      "cell_type": "markdown",
      "source": [
        "***SUBTRACT***"
      ],
      "metadata": {
        "id": "T49il3Zok9R9"
      }
    },
    {
      "cell_type": "code",
      "source": [
        "sub= lambda a,b : a-b"
      ],
      "metadata": {
        "id": "4qPenDAQlmQ6"
      },
      "execution_count": 9,
      "outputs": []
    },
    {
      "cell_type": "code",
      "source": [
        "a=int(input(\"enter the first number:\"))\n",
        "b=int(input(\"enter the second number:\"))"
      ],
      "metadata": {
        "colab": {
          "base_uri": "https://localhost:8080/"
        },
        "id": "g3rFUmyMlyGg",
        "outputId": "c01e8011-9789-41af-d51c-cace6e37c172"
      },
      "execution_count": 16,
      "outputs": [
        {
          "name": "stdout",
          "output_type": "stream",
          "text": [
            "enter the first number:5\n",
            "enter the second number:3\n"
          ]
        }
      ]
    },
    {
      "cell_type": "code",
      "source": [
        "result=sub(a,b)\n",
        "print(f\"sub of {a} and {b} = {result}\")"
      ],
      "metadata": {
        "colab": {
          "base_uri": "https://localhost:8080/"
        },
        "id": "pMFVFtWBoRIX",
        "outputId": "a1aa2b5c-f70b-4312-c2ad-fd2be3e5a641"
      },
      "execution_count": 18,
      "outputs": [
        {
          "output_type": "stream",
          "name": "stdout",
          "text": [
            "sub of 5 and 3 = 2\n"
          ]
        }
      ]
    },
    {
      "cell_type": "markdown",
      "source": [
        "***MULTIPLICATION***"
      ],
      "metadata": {
        "id": "53Lw49xql8Kn"
      }
    },
    {
      "cell_type": "code",
      "source": [
        "def mul(a:int ,b:int):\n",
        " return a*b"
      ],
      "metadata": {
        "id": "a9dC8OyOmYcX"
      },
      "execution_count": 12,
      "outputs": []
    },
    {
      "cell_type": "code",
      "source": [
        "a:int(input(\"Enter your first NO:\"))\n",
        "b:int(input(\"Enter your second NO:\"))"
      ],
      "metadata": {
        "colab": {
          "base_uri": "https://localhost:8080/"
        },
        "id": "4oTdxO3Kmkay",
        "outputId": "386df3a5-70b3-412e-8dc7-54f99e544b7a"
      },
      "execution_count": 19,
      "outputs": [
        {
          "name": "stdout",
          "output_type": "stream",
          "text": [
            "Enter your first NO:4\n",
            "Enter your second NO:2\n"
          ]
        }
      ]
    },
    {
      "cell_type": "code",
      "source": [
        "result=mul(a,b)\n",
        "print(f\"mul of {a} and {b} = {result}\")"
      ],
      "metadata": {
        "colab": {
          "base_uri": "https://localhost:8080/"
        },
        "id": "WJdvWAV-o1_h",
        "outputId": "4c49d7da-bbc4-4d7a-d271-ec024491b61c"
      },
      "execution_count": 23,
      "outputs": [
        {
          "output_type": "stream",
          "name": "stdout",
          "text": [
            "mul of 5 and 3 = 15\n"
          ]
        }
      ]
    },
    {
      "cell_type": "markdown",
      "source": [
        "***DIVISION***"
      ],
      "metadata": {
        "id": "kP6fhIVUmzjx"
      }
    },
    {
      "cell_type": "code",
      "source": [
        "def div(a:float,b:float):\n",
        "  if b == 0:\n",
        "    return(\"Error: Division by zero is not allowed.\")\n",
        "  return(a / b)"
      ],
      "metadata": {
        "id": "3h4KM8qdm2-j"
      },
      "execution_count": 24,
      "outputs": []
    },
    {
      "cell_type": "code",
      "source": [
        "a=int(input(\"enter the first number:\"))\n",
        "b=int(input(\"enter the second number:\"))"
      ],
      "metadata": {
        "colab": {
          "base_uri": "https://localhost:8080/"
        },
        "id": "wBR3uGMaqNzC",
        "outputId": "31016f55-9057-4a88-b6bf-2d72b5349920"
      },
      "execution_count": 25,
      "outputs": [
        {
          "name": "stdout",
          "output_type": "stream",
          "text": [
            "enter the first number:5\n",
            "enter the second number:7\n"
          ]
        }
      ]
    },
    {
      "cell_type": "code",
      "source": [
        "result=div(a,b)\n",
        "print(f\"division of {a} and {b} = {result}\")"
      ],
      "metadata": {
        "colab": {
          "base_uri": "https://localhost:8080/"
        },
        "id": "KdASwOWtqQxI",
        "outputId": "9aa888f0-7ac8-4bb8-ddbf-2977b124419f"
      },
      "execution_count": 26,
      "outputs": [
        {
          "output_type": "stream",
          "name": "stdout",
          "text": [
            "division of 5 and 7 = 0.7142857142857143\n"
          ]
        }
      ]
    },
    {
      "cell_type": "code",
      "source": [
        "a=int(input(\"enter the first number:\"))\n",
        "b=int(input(\"enter the second number:\"))"
      ],
      "metadata": {
        "colab": {
          "base_uri": "https://localhost:8080/"
        },
        "id": "AU6RLLqtqbvY",
        "outputId": "1567f82c-72d4-4926-a78b-eecdf6cf62ba"
      },
      "execution_count": 27,
      "outputs": [
        {
          "name": "stdout",
          "output_type": "stream",
          "text": [
            "enter the first number:5\n",
            "enter the second number:0\n"
          ]
        }
      ]
    },
    {
      "cell_type": "code",
      "source": [
        "result=div(a,b)\n",
        "print(f\"division of {a} and {b} = {result}\")"
      ],
      "metadata": {
        "colab": {
          "base_uri": "https://localhost:8080/"
        },
        "id": "-4IO6RrrqnYR",
        "outputId": "f77d329b-bd73-4725-cb8f-ea767a140b5c"
      },
      "execution_count": 28,
      "outputs": [
        {
          "output_type": "stream",
          "name": "stdout",
          "text": [
            "division of 5 and 0 = Error: Division by zero is not allowed.\n"
          ]
        }
      ]
    }
  ]
}