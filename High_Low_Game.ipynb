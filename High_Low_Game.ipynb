{
  "nbformat": 4,
  "nbformat_minor": 0,
  "metadata": {
    "colab": {
      "provenance": [],
      "authorship_tag": "ABX9TyMf0GilajmpsoRLaXpXUwsx",
      "include_colab_link": true
    },
    "kernelspec": {
      "name": "python3",
      "display_name": "Python 3"
    },
    "language_info": {
      "name": "python"
    }
  },
  "cells": [
    {
      "cell_type": "markdown",
      "metadata": {
        "id": "view-in-github",
        "colab_type": "text"
      },
      "source": [
        "<a href=\"https://colab.research.google.com/github/Aiza368/New-folder/blob/main/High_Low_Game.ipynb\" target=\"_parent\"><img src=\"https://colab.research.google.com/assets/colab-badge.svg\" alt=\"Open In Colab\"/></a>"
      ]
    },
    {
      "cell_type": "code",
      "execution_count": 2,
      "metadata": {
        "colab": {
          "base_uri": "https://localhost:8080/"
        },
        "id": "C0at4UQitu3z",
        "outputId": "7e2811cd-d22e-4955-d786-4067112514a6"
      },
      "outputs": [
        {
          "output_type": "stream",
          "name": "stdout",
          "text": [
            "welcome to high_low game\n",
            "What is your name:Amna\n",
            "Amna\n",
            "Lets play\n"
          ]
        }
      ],
      "source": [
        "print(\"welcome to high_low game\")\n",
        "print (input(\"What is your name:\"))\n",
        "print(\"Lets play\")"
      ]
    },
    {
      "cell_type": "code",
      "source": [
        "import random\n",
        "score = 0\n",
        "total_rounds = 3\n",
        "for round_number in range(1, total_rounds + 1):\n",
        "  print(f\"Round {round_number}\")\n",
        "  user_num = random.randint(1,100)\n",
        "  computer_num = random.randint(1,100)\n",
        "  print(\"user_num\",user_num)\n",
        "  user_guess = input(\"Guess your number is higher or lower then the computers number:\").lower()\n",
        "  if user_guess == \"higher\":\n",
        "     if user_num > computer_num:\n",
        "       print(\"you are correct! The computer number was\",computer_num)\n",
        "       score +=1\n",
        "     else:\n",
        "       print(\"you are wrong!The computer number was\",computer_num)\n",
        "  elif user_guess == \"lower\":\n",
        "     if user_num < computer_num:\n",
        "       print(\"you are correct! The computer number was\",computer_num)\n",
        "       score +=1\n",
        "     else:\n",
        "       print(\"you are wrong!The computer number was\",computer_num)\n",
        "  else:\n",
        "     print(\"Invalid input! Plz type higher or lower\")\n",
        "     break\n",
        "round_number += 1\n",
        "print(\"The game is over!\")\n",
        "print(\"your final score is:\",score)"
      ],
      "metadata": {
        "colab": {
          "base_uri": "https://localhost:8080/"
        },
        "id": "K7ZxJgisuVjI",
        "outputId": "d7d2a291-7877-4bf2-d084-83c17421cf49"
      },
      "execution_count": 4,
      "outputs": [
        {
          "output_type": "stream",
          "name": "stdout",
          "text": [
            "Round 1\n",
            "user_num 41\n",
            "Guess your number is higher or lower then the computers number:lower\n",
            "you are wrong!The computer number was 21\n",
            "Round 2\n",
            "user_num 50\n",
            "Guess your number is higher or lower then the computers number:higher\n",
            "you are wrong!The computer number was 54\n",
            "Round 3\n",
            "user_num 62\n",
            "Guess your number is higher or lower then the computers number:lower\n",
            "you are wrong!The computer number was 55\n",
            "The game is over!\n",
            "your final score is: 0\n"
          ]
        }
      ]
    }
  ]
}